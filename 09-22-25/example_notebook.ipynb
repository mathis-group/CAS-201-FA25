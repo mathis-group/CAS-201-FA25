{
 "cells": [
  {
   "cell_type": "markdown",
   "id": "cdac616b",
   "metadata": {},
   "source": [
    "This is a JuPyteR notebook, you can use it to write and interact with code. It is possible to use on GitHub Codespaces, you just need to activate it. "
   ]
  },
  {
   "cell_type": "code",
   "execution_count": null,
   "id": "0137213b",
   "metadata": {},
   "outputs": [],
   "source": [
    "# This is an import statement\n",
    "import math\n",
    "\n",
    "a = 16\n"
   ]
  },
  {
   "cell_type": "code",
   "execution_count": null,
   "id": "4fe8c08a",
   "metadata": {},
   "outputs": [],
   "source": [
    "f\"The square root of {a} is {math.sqrt(a)}\""
   ]
  },
  {
   "cell_type": "markdown",
   "id": "a2234661",
   "metadata": {},
   "source": [
    "You can use Markdown to write notes or ideas that you want to interject between code."
   ]
  },
  {
   "cell_type": "markdown",
   "id": "fb1f5edf",
   "metadata": {},
   "source": [
    "Let's talk more about lists, list comprehensions, and loops"
   ]
  },
  {
   "cell_type": "code",
   "execution_count": null,
   "id": "19cba828",
   "metadata": {},
   "outputs": [],
   "source": [
    "a = [1,2,3,4,5]"
   ]
  },
  {
   "cell_type": "code",
   "execution_count": null,
   "id": "5cd40af8",
   "metadata": {},
   "outputs": [],
   "source": [
    "b = a\n",
    "c = [k for k in a]\n",
    "c"
   ]
  },
  {
   "cell_type": "code",
   "execution_count": null,
   "id": "fa344f02",
   "metadata": {},
   "outputs": [],
   "source": [
    "b"
   ]
  },
  {
   "cell_type": "code",
   "execution_count": null,
   "id": "423d2c87",
   "metadata": {},
   "outputs": [],
   "source": [
    "a[2] = 30\n",
    "a\n"
   ]
  },
  {
   "cell_type": "code",
   "execution_count": null,
   "id": "3ba0f067",
   "metadata": {},
   "outputs": [],
   "source": [
    "b\n"
   ]
  },
  {
   "cell_type": "code",
   "execution_count": null,
   "id": "e74894f5",
   "metadata": {},
   "outputs": [],
   "source": [
    "c\n"
   ]
  },
  {
   "cell_type": "markdown",
   "id": "9e6e1c60",
   "metadata": {},
   "source": [
    "What happened here? Why is `b` different than `c`?"
   ]
  },
  {
   "cell_type": "code",
   "execution_count": null,
   "id": "57ad6374",
   "metadata": {},
   "outputs": [],
   "source": [
    "my_dict = {k:a.index(k) for k in a if k % 2 == 1}\n",
    "my_dict"
   ]
  },
  {
   "cell_type": "code",
   "execution_count": null,
   "id": "bc23f4f3",
   "metadata": {},
   "outputs": [],
   "source": [
    "def keeper(k):\n",
    "    if k % 2 == 1:\n",
    "        return True \n",
    "    else:\n",
    "        return False\n",
    "\n",
    "my_dict = {k:a.index(k) for k in a if keeper(k)}\n",
    "my_dict"
   ]
  },
  {
   "cell_type": "code",
   "execution_count": null,
   "id": "a0b4f4fb",
   "metadata": {},
   "outputs": [],
   "source": [
    "new_dict = dict()\n",
    "for k in a:\n",
    "    if k % 2 == 1:\n",
    "        new_dict[k] = a.index(k)"
   ]
  },
  {
   "cell_type": "code",
   "execution_count": null,
   "id": "763aba7a",
   "metadata": {},
   "outputs": [],
   "source": []
  },
  {
   "cell_type": "code",
   "execution_count": null,
   "id": "21d3e080",
   "metadata": {},
   "outputs": [],
   "source": [
    "a = [1,2,3,4,5]"
   ]
  },
  {
   "cell_type": "code",
   "execution_count": null,
   "id": "c7e135e9",
   "metadata": {},
   "outputs": [],
   "source": [
    "for k in a: # a for loop that iterates over a list\n",
    "    print(k)"
   ]
  },
  {
   "cell_type": "code",
   "execution_count": null,
   "id": "faa515f0",
   "metadata": {},
   "outputs": [],
   "source": [
    "for i in range(4, 10):\n",
    "    print(i)"
   ]
  },
  {
   "cell_type": "code",
   "execution_count": null,
   "id": "3c76b24a",
   "metadata": {},
   "outputs": [],
   "source": [
    "\n",
    "my_l = range(4,10)\n",
    "my_l = [r for r in range(4,10)]"
   ]
  },
  {
   "cell_type": "code",
   "execution_count": null,
   "id": "20df44b6",
   "metadata": {},
   "outputs": [],
   "source": [
    "def fac_recursive(n):\n",
    "    if n == 1:\n",
    "        return 1\n",
    "    else:\n",
    "        return n*fac_recursive(n-1)"
   ]
  },
  {
   "cell_type": "code",
   "execution_count": null,
   "id": "904c3d91",
   "metadata": {},
   "outputs": [],
   "source": [
    "def fac_iteration(n):\n",
    "    f = 1\n",
    "    for i in range(1,(n+1)):\n",
    "        f = f*i\n",
    "    return f"
   ]
  },
  {
   "cell_type": "code",
   "execution_count": null,
   "id": "3e3886a2",
   "metadata": {},
   "outputs": [],
   "source": [
    "fac_iteration(6)"
   ]
  },
  {
   "cell_type": "code",
   "execution_count": null,
   "id": "fcd82cc4",
   "metadata": {},
   "outputs": [],
   "source": []
  }
 ],
 "metadata": {
  "kernelspec": {
   "display_name": "Python 3",
   "language": "python",
   "name": "python3"
  },
  "language_info": {
   "codemirror_mode": {
    "name": "ipython",
    "version": 3
   },
   "file_extension": ".py",
   "mimetype": "text/x-python",
   "name": "python",
   "nbconvert_exporter": "python",
   "pygments_lexer": "ipython3",
   "version": "3.12.1"
  }
 },
 "nbformat": 4,
 "nbformat_minor": 5
}
